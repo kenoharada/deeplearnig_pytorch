{
 "cells": [
  {
   "cell_type": "code",
   "execution_count": 38,
   "metadata": {},
   "outputs": [
    {
     "name": "stdout",
     "output_type": "stream",
     "text": [
      "tensor([[ 0.0000e+00,  2.0000e+00,  7.4081e+12],\n",
      "        [-3.6902e+19,  6.9793e+09,  4.5745e-41],\n",
      "        [ 7.0020e+09,  4.5745e-41,  7.0021e+09],\n",
      "        [ 4.5745e-41,  7.3873e+12,  4.2039e-45],\n",
      "        [ 0.0000e+00,  0.0000e+00,  7.2064e+31]])\n"
     ]
    }
   ],
   "source": [
    "from __future__ import print_function\n",
    "import torch\n",
    "# Tensorは\n",
    "# construct a 5*3 matrix uninitailized\n",
    "x = torch.empty(5, 3)\n",
    "print(x)"
   ]
  },
  {
   "cell_type": "code",
   "execution_count": 39,
   "metadata": {},
   "outputs": [
    {
     "name": "stdout",
     "output_type": "stream",
     "text": [
      "0.4.1\n"
     ]
    }
   ],
   "source": [
    "import torch\n",
    "print(torch.__version__)"
   ]
  },
  {
   "cell_type": "code",
   "execution_count": 40,
   "metadata": {},
   "outputs": [
    {
     "name": "stdout",
     "output_type": "stream",
     "text": [
      "tensor([[0.8514, 0.3009, 0.1380],\n",
      "        [0.1686, 0.1581, 0.5513],\n",
      "        [0.7374, 0.2504, 0.5180],\n",
      "        [0.7721, 0.7323, 0.8665],\n",
      "        [0.3939, 0.7681, 0.8751]])\n"
     ]
    }
   ],
   "source": [
    "# construct a randomly initialized matrix\n",
    "x = torch.rand(5, 3)\n",
    "print(x)"
   ]
  },
  {
   "cell_type": "code",
   "execution_count": 41,
   "metadata": {},
   "outputs": [
    {
     "name": "stdout",
     "output_type": "stream",
     "text": [
      "tensor([[0, 0, 0],\n",
      "        [0, 0, 0],\n",
      "        [0, 0, 0],\n",
      "        [0, 0, 0],\n",
      "        [0, 0, 0]])\n"
     ]
    }
   ],
   "source": [
    "#construct a matrix filled zeros and of dtype long\n",
    "x = torch.zeros(5, 3, dtype=torch.long)\n",
    "print(x)"
   ]
  },
  {
   "cell_type": "code",
   "execution_count": 42,
   "metadata": {},
   "outputs": [
    {
     "name": "stdout",
     "output_type": "stream",
     "text": [
      "tensor([5.5000, 3.0000])\n"
     ]
    }
   ],
   "source": [
    "# construct a tensor directly from data\n",
    "x = torch.tensor([5.5, 3])\n",
    "print(x)"
   ]
  },
  {
   "cell_type": "code",
   "execution_count": 43,
   "metadata": {},
   "outputs": [
    {
     "name": "stdout",
     "output_type": "stream",
     "text": [
      "tensor([[1., 1., 1.],\n",
      "        [1., 1., 1.],\n",
      "        [1., 1., 1.],\n",
      "        [1., 1., 1.],\n",
      "        [1., 1., 1.]], dtype=torch.float64)\n",
      "tensor([[-0.5042, -0.5440,  0.5715],\n",
      "        [ 1.4435,  1.2968,  2.9435],\n",
      "        [-1.2213,  2.4615,  0.5594],\n",
      "        [-0.7137, -0.6655,  1.7620],\n",
      "        [-0.8360, -1.4677, -1.3614]])\n"
     ]
    }
   ],
   "source": [
    "# create a tensor based on an exisiting tensor \n",
    "# These methods will reuse properties of the input tensor\n",
    "x = x.new_ones(5, 3, dtype=torch.double)\n",
    "print(x)\n",
    "\n",
    "x = torch.randn_like(x, dtype=torch.float)\n",
    "print(x)"
   ]
  },
  {
   "cell_type": "code",
   "execution_count": 44,
   "metadata": {},
   "outputs": [
    {
     "name": "stdout",
     "output_type": "stream",
     "text": [
      "torch.Size([5, 3])\n"
     ]
    }
   ],
   "source": [
    "# Get its size\n",
    "print(x.size())"
   ]
  },
  {
   "cell_type": "code",
   "execution_count": 45,
   "metadata": {},
   "outputs": [
    {
     "name": "stdout",
     "output_type": "stream",
     "text": [
      "tensor([[0.4531, 0.3257, 0.9421],\n",
      "        [0.3925, 0.4795, 0.3961],\n",
      "        [0.2270, 0.4737, 0.5687],\n",
      "        [0.5920, 0.1612, 0.5464],\n",
      "        [0.1720, 0.7091, 0.9845]])\n",
      "tensor([[-0.0511, -0.2183,  1.5136],\n",
      "        [ 1.8360,  1.7763,  3.3395],\n",
      "        [-0.9943,  2.9352,  1.1281],\n",
      "        [-0.1217, -0.5044,  2.3085],\n",
      "        [-0.6640, -0.7586, -0.3770]])\n"
     ]
    }
   ],
   "source": [
    "y = torch.rand(5, 3)\n",
    "print(y)\n",
    "print(x + y)"
   ]
  },
  {
   "cell_type": "code",
   "execution_count": 46,
   "metadata": {},
   "outputs": [
    {
     "name": "stdout",
     "output_type": "stream",
     "text": [
      "tensor([[-0.0511, -0.2183,  1.5136],\n",
      "        [ 1.8360,  1.7763,  3.3395],\n",
      "        [-0.9943,  2.9352,  1.1281],\n",
      "        [-0.1217, -0.5044,  2.3085],\n",
      "        [-0.6640, -0.7586, -0.3770]])\n"
     ]
    }
   ],
   "source": [
    "print(torch.add(x, y))"
   ]
  },
  {
   "cell_type": "code",
   "execution_count": 47,
   "metadata": {},
   "outputs": [
    {
     "name": "stdout",
     "output_type": "stream",
     "text": [
      "tensor([[-0.0511, -0.2183,  1.5136],\n",
      "        [ 1.8360,  1.7763,  3.3395],\n",
      "        [-0.9943,  2.9352,  1.1281],\n",
      "        [-0.1217, -0.5044,  2.3085],\n",
      "        [-0.6640, -0.7586, -0.3770]])\n"
     ]
    }
   ],
   "source": [
    "result = torch.empty(5, 3)\n",
    "torch.add(x, y, out = result)\n",
    "print(result)"
   ]
  },
  {
   "cell_type": "code",
   "execution_count": 48,
   "metadata": {},
   "outputs": [
    {
     "name": "stdout",
     "output_type": "stream",
     "text": [
      "tensor([[-0.0511, -0.2183,  1.5136],\n",
      "        [ 1.8360,  1.7763,  3.3395],\n",
      "        [-0.9943,  2.9352,  1.1281],\n",
      "        [-0.1217, -0.5044,  2.3085],\n",
      "        [-0.6640, -0.7586, -0.3770]])\n"
     ]
    }
   ],
   "source": [
    "y.add_(x)\n",
    "print(y)"
   ]
  },
  {
   "cell_type": "code",
   "execution_count": 52,
   "metadata": {},
   "outputs": [
    {
     "name": "stdout",
     "output_type": "stream",
     "text": [
      "tensor([[-0.5042, -0.5440,  0.5715],\n",
      "        [ 1.4435,  1.2968,  2.9435],\n",
      "        [-1.2213,  2.4615,  0.5594],\n",
      "        [-0.7137, -0.6655,  1.7620],\n",
      "        [-0.8360, -1.4677, -1.3614]])\n",
      "tensor([-0.5440,  1.2968,  2.4615, -0.6655, -1.4677])\n"
     ]
    }
   ],
   "source": [
    "print(x)\n",
    "print(x[:, 1])"
   ]
  },
  {
   "cell_type": "code",
   "execution_count": 53,
   "metadata": {},
   "outputs": [
    {
     "name": "stdout",
     "output_type": "stream",
     "text": [
      "torch.Size([4, 4]) torch.Size([16]) torch.Size([2, 8])\n"
     ]
    }
   ],
   "source": [
    "# resizing\n",
    "x = torch.randn(4, 4)\n",
    "y = x.view(16)\n",
    "z = x.view(-1, 8) # the size -1 is inferred from otheer dimensions\n",
    "print(x.size(), y.size(), z.size())"
   ]
  },
  {
   "cell_type": "code",
   "execution_count": 58,
   "metadata": {},
   "outputs": [
    {
     "name": "stdout",
     "output_type": "stream",
     "text": [
      "1.1052515506744385\n"
     ]
    }
   ],
   "source": [
    "# one element tensor is converted to python number by using .item()\n",
    "x = torch.randn(1)\n",
    "print(x.item())"
   ]
  },
  {
   "cell_type": "markdown",
   "metadata": {},
   "source": [
    "# Numpy Bridge"
   ]
  },
  {
   "cell_type": "code",
   "execution_count": 59,
   "metadata": {},
   "outputs": [
    {
     "name": "stdout",
     "output_type": "stream",
     "text": [
      "tensor([1., 1., 1., 1., 1.])\n",
      "[1. 1. 1. 1. 1.]\n"
     ]
    }
   ],
   "source": [
    "# converting a torch tensor to a numpy array\n",
    "a = torch.ones(5)\n",
    "print(a)\n",
    "b = a.numpy()\n",
    "print(b)"
   ]
  },
  {
   "cell_type": "code",
   "execution_count": 61,
   "metadata": {},
   "outputs": [
    {
     "name": "stdout",
     "output_type": "stream",
     "text": [
      "tensor([3., 3., 3., 3., 3.])\n",
      "[3. 3. 3. 3. 3.]\n"
     ]
    }
   ],
   "source": [
    "# the torch tensor and numpy array will share their underlying memory locations and changing one will change the another\n",
    "a.add_(1)\n",
    "print(a)\n",
    "print(b)"
   ]
  },
  {
   "cell_type": "code",
   "execution_count": 63,
   "metadata": {},
   "outputs": [
    {
     "name": "stdout",
     "output_type": "stream",
     "text": [
      "[2. 2. 2. 2. 2.]\n",
      "tensor([2., 2., 2., 2., 2.], dtype=torch.float64)\n"
     ]
    }
   ],
   "source": [
    "# converting numpy array to torch tensor\n",
    "import numpy as np\n",
    "a = np.ones(5)\n",
    "b = torch.from_numpy(a)\n",
    "np.add(a, 1, out=a)\n",
    "print(a)\n",
    "print(b)"
   ]
  },
  {
   "cell_type": "code",
   "execution_count": 64,
   "metadata": {
    "collapsed": true
   },
   "outputs": [],
   "source": [
    "# CUDA tensor\n",
    "# let us run this cell only if CUDA is available\n",
    "# we will use ``torch.device`` objects to move tensors in and out of GPU\n",
    "if torch.cuda.is_available():\n",
    "    device = torch.device(\"cuda\") # a cuda device object\n",
    "    y = torch.ones_like(x, device=device) # directly create a tensor on GPU\n",
    "    x = x.to(device) # or just use strings ``.to(\"cuda\")``\n",
    "    z = x + y\n",
    "    print(z)\n",
    "    print(z.to(\"cpu, torch.double\")) # ``.to`` can also change dtype together!"
   ]
  },
  {
   "cell_type": "code",
   "execution_count": null,
   "metadata": {
    "collapsed": true
   },
   "outputs": [],
   "source": []
  }
 ],
 "metadata": {
  "kernelspec": {
   "display_name": "Python 3",
   "language": "python",
   "name": "python3"
  },
  "language_info": {
   "codemirror_mode": {
    "name": "ipython",
    "version": 3
   },
   "file_extension": ".py",
   "mimetype": "text/x-python",
   "name": "python",
   "nbconvert_exporter": "python",
   "pygments_lexer": "ipython3",
   "version": "3.6.3"
  }
 },
 "nbformat": 4,
 "nbformat_minor": 2
}
